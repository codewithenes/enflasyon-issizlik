{
 "cells": [
  {
   "cell_type": "code",
   "execution_count": 189,
   "id": "acb9ea9c-369c-4cb8-855f-41c7d4506588",
   "metadata": {},
   "outputs": [],
   "source": [
    "import pandas as pd\n",
    "import matplotlib.pyplot as plt\n",
    "import numpy as np\n",
    "import seaborn as sns\n"
   ]
  },
  {
   "cell_type": "code",
   "execution_count": 190,
   "id": "22a0c68b-19ad-408d-87d2-4aafb4ce35e5",
   "metadata": {},
   "outputs": [],
   "source": [
    "data = pd.read_csv('data.csv',sep=\";\")"
   ]
  },
  {
   "cell_type": "code",
   "execution_count": 191,
   "id": "8487b5e4-1789-460c-8fe3-f5388d6be014",
   "metadata": {},
   "outputs": [],
   "source": [
    "data=data.apply(lambda x:x.str.replace(\",\",\".\")) #dosyayı okurken virgülleri nokta yapmamız gerekiyor.String algılamaması için"
   ]
  },
  {
   "cell_type": "code",
   "execution_count": 192,
   "id": "5466a569-caf8-4c1b-856b-c110882e7c61",
   "metadata": {},
   "outputs": [
    {
     "data": {
      "text/plain": [
       "pandas.core.series.Series"
      ]
     },
     "execution_count": 192,
     "metadata": {},
     "output_type": "execute_result"
    }
   ],
   "source": [
    "type(data.issizlik)"
   ]
  },
  {
   "cell_type": "code",
   "execution_count": 193,
   "id": "5b57d8c6-8b5f-45fc-93bb-3ea0ad8dcf36",
   "metadata": {},
   "outputs": [
    {
     "data": {
      "text/plain": [
       "pandas.core.series.Series"
      ]
     },
     "execution_count": 193,
     "metadata": {},
     "output_type": "execute_result"
    }
   ],
   "source": [
    "type(data.enflasyon)"
   ]
  },
  {
   "cell_type": "code",
   "execution_count": 194,
   "id": "8e70404c-34bb-441b-8d9f-0f94220fe201",
   "metadata": {},
   "outputs": [
    {
     "data": {
      "text/plain": [
       "pandas.core.frame.DataFrame"
      ]
     },
     "execution_count": 194,
     "metadata": {},
     "output_type": "execute_result"
    }
   ],
   "source": [
    "type(data)"
   ]
  },
  {
   "cell_type": "code",
   "execution_count": 195,
   "id": "2419db9d-f347-4577-9f2f-1d218bf16c9d",
   "metadata": {},
   "outputs": [
    {
     "data": {
      "text/html": [
       "<div>\n",
       "<style scoped>\n",
       "    .dataframe tbody tr th:only-of-type {\n",
       "        vertical-align: middle;\n",
       "    }\n",
       "\n",
       "    .dataframe tbody tr th {\n",
       "        vertical-align: top;\n",
       "    }\n",
       "\n",
       "    .dataframe thead th {\n",
       "        text-align: right;\n",
       "    }\n",
       "</style>\n",
       "<table border=\"1\" class=\"dataframe\">\n",
       "  <thead>\n",
       "    <tr style=\"text-align: right;\">\n",
       "      <th></th>\n",
       "      <th>Tarih</th>\n",
       "      <th>enflasyon</th>\n",
       "      <th>issizlik</th>\n",
       "    </tr>\n",
       "  </thead>\n",
       "  <tbody>\n",
       "    <tr>\n",
       "      <th>0</th>\n",
       "      <td>2006-01</td>\n",
       "      <td>7.93</td>\n",
       "      <td>10.80</td>\n",
       "    </tr>\n",
       "    <tr>\n",
       "      <th>1</th>\n",
       "      <td>2006-02</td>\n",
       "      <td>8.15</td>\n",
       "      <td>10.90</td>\n",
       "    </tr>\n",
       "    <tr>\n",
       "      <th>2</th>\n",
       "      <td>2006-03</td>\n",
       "      <td>8.16</td>\n",
       "      <td>10.00</td>\n",
       "    </tr>\n",
       "    <tr>\n",
       "      <th>3</th>\n",
       "      <td>2006-04</td>\n",
       "      <td>8.83</td>\n",
       "      <td>9.10</td>\n",
       "    </tr>\n",
       "    <tr>\n",
       "      <th>4</th>\n",
       "      <td>2006-05</td>\n",
       "      <td>9.86</td>\n",
       "      <td>8.00</td>\n",
       "    </tr>\n",
       "  </tbody>\n",
       "</table>\n",
       "</div>"
      ],
      "text/plain": [
       "     Tarih enflasyon issizlik\n",
       "0  2006-01      7.93    10.80\n",
       "1  2006-02      8.15    10.90\n",
       "2  2006-03      8.16    10.00\n",
       "3  2006-04      8.83     9.10\n",
       "4  2006-05      9.86     8.00"
      ]
     },
     "execution_count": 195,
     "metadata": {},
     "output_type": "execute_result"
    }
   ],
   "source": [
    "data.head(5)"
   ]
  },
  {
   "cell_type": "code",
   "execution_count": 196,
   "id": "48fff841-ad04-44b8-b7eb-4985a448f1af",
   "metadata": {},
   "outputs": [
    {
     "data": {
      "text/html": [
       "<div>\n",
       "<style scoped>\n",
       "    .dataframe tbody tr th:only-of-type {\n",
       "        vertical-align: middle;\n",
       "    }\n",
       "\n",
       "    .dataframe tbody tr th {\n",
       "        vertical-align: top;\n",
       "    }\n",
       "\n",
       "    .dataframe thead th {\n",
       "        text-align: right;\n",
       "    }\n",
       "</style>\n",
       "<table border=\"1\" class=\"dataframe\">\n",
       "  <thead>\n",
       "    <tr style=\"text-align: right;\">\n",
       "      <th></th>\n",
       "      <th>Tarih</th>\n",
       "      <th>enflasyon</th>\n",
       "      <th>issizlik</th>\n",
       "    </tr>\n",
       "  </thead>\n",
       "  <tbody>\n",
       "    <tr>\n",
       "      <th>155</th>\n",
       "      <td>2018-12</td>\n",
       "      <td>20.30</td>\n",
       "      <td>13.50</td>\n",
       "    </tr>\n",
       "    <tr>\n",
       "      <th>156</th>\n",
       "      <td>2019-01</td>\n",
       "      <td>20.35</td>\n",
       "      <td>14.70</td>\n",
       "    </tr>\n",
       "    <tr>\n",
       "      <th>157</th>\n",
       "      <td>2019-02</td>\n",
       "      <td>19.67</td>\n",
       "      <td>14.70</td>\n",
       "    </tr>\n",
       "    <tr>\n",
       "      <th>158</th>\n",
       "      <td>2019-03</td>\n",
       "      <td>NaN</td>\n",
       "      <td>NaN</td>\n",
       "    </tr>\n",
       "    <tr>\n",
       "      <th>159</th>\n",
       "      <td>2019-04</td>\n",
       "      <td>NaN</td>\n",
       "      <td>NaN</td>\n",
       "    </tr>\n",
       "  </tbody>\n",
       "</table>\n",
       "</div>"
      ],
      "text/plain": [
       "       Tarih enflasyon issizlik\n",
       "155  2018-12     20.30    13.50\n",
       "156  2019-01     20.35    14.70\n",
       "157  2019-02     19.67    14.70\n",
       "158  2019-03       NaN      NaN\n",
       "159  2019-04       NaN      NaN"
      ]
     },
     "execution_count": 196,
     "metadata": {},
     "output_type": "execute_result"
    }
   ],
   "source": [
    "data.tail()"
   ]
  },
  {
   "cell_type": "code",
   "execution_count": 197,
   "id": "33b3a9c4-d477-4b9a-99ca-949ad00435ac",
   "metadata": {},
   "outputs": [
    {
     "data": {
      "text/plain": [
       "Index(['Tarih', 'enflasyon', 'issizlik'], dtype='object')"
      ]
     },
     "execution_count": 197,
     "metadata": {},
     "output_type": "execute_result"
    }
   ],
   "source": [
    "data.columns"
   ]
  },
  {
   "cell_type": "code",
   "execution_count": 198,
   "id": "6a154e96-22c5-4a1f-96e6-d2044d16cb86",
   "metadata": {},
   "outputs": [
    {
     "data": {
      "text/plain": [
       "[RangeIndex(start=0, stop=160, step=1),\n",
       " Index(['Tarih', 'enflasyon', 'issizlik'], dtype='object')]"
      ]
     },
     "execution_count": 198,
     "metadata": {},
     "output_type": "execute_result"
    }
   ],
   "source": [
    "data.axes"
   ]
  },
  {
   "cell_type": "code",
   "execution_count": 199,
   "id": "5a618cee-0c4a-470d-a1c1-b0b58755d2cf",
   "metadata": {},
   "outputs": [
    {
     "data": {
      "text/plain": [
       "(160, 3)"
      ]
     },
     "execution_count": 199,
     "metadata": {},
     "output_type": "execute_result"
    }
   ],
   "source": [
    "data.shape"
   ]
  },
  {
   "cell_type": "code",
   "execution_count": 200,
   "id": "d917464e-4473-4269-b990-4ab2193e31ed",
   "metadata": {},
   "outputs": [
    {
     "name": "stdout",
     "output_type": "stream",
     "text": [
      "<class 'pandas.core.frame.DataFrame'>\n",
      "RangeIndex: 160 entries, 0 to 159\n",
      "Data columns (total 3 columns):\n",
      " #   Column     Non-Null Count  Dtype \n",
      "---  ------     --------------  ----- \n",
      " 0   Tarih      160 non-null    object\n",
      " 1   enflasyon  158 non-null    object\n",
      " 2   issizlik   158 non-null    object\n",
      "dtypes: object(3)\n",
      "memory usage: 3.9+ KB\n"
     ]
    }
   ],
   "source": [
    "data.info()"
   ]
  },
  {
   "cell_type": "code",
   "execution_count": 201,
   "id": "9cb9b7c2-e242-4025-ba7e-07b20a6c003d",
   "metadata": {},
   "outputs": [],
   "source": [
    "data['enflasyon'] = data['enflasyon'].astype('float')"
   ]
  },
  {
   "cell_type": "code",
   "execution_count": 202,
   "id": "4c705826-1568-49dd-b10b-46f9f44bfe4b",
   "metadata": {},
   "outputs": [],
   "source": [
    "data['issizlik'] = data['issizlik'].astype('float')"
   ]
  },
  {
   "cell_type": "code",
   "execution_count": 203,
   "id": "99f8b16c-1511-4f17-80c1-8bb3f459bc4a",
   "metadata": {},
   "outputs": [
    {
     "name": "stdout",
     "output_type": "stream",
     "text": [
      "<class 'pandas.core.frame.DataFrame'>\n",
      "RangeIndex: 160 entries, 0 to 159\n",
      "Data columns (total 3 columns):\n",
      " #   Column     Non-Null Count  Dtype  \n",
      "---  ------     --------------  -----  \n",
      " 0   Tarih      160 non-null    object \n",
      " 1   enflasyon  158 non-null    float64\n",
      " 2   issizlik   158 non-null    float64\n",
      "dtypes: float64(2), object(1)\n",
      "memory usage: 3.9+ KB\n"
     ]
    }
   ],
   "source": [
    "data.info() #enflasyon ve işsizlik değişkenlerinin floata dönüştüğünü görmekteyiz"
   ]
  },
  {
   "cell_type": "code",
   "execution_count": 204,
   "id": "457a3084-4640-4217-ab79-9aafb9847239",
   "metadata": {},
   "outputs": [],
   "source": [
    "data.dropna(inplace=True)"
   ]
  },
  {
   "cell_type": "code",
   "execution_count": 205,
   "id": "c0d3b6be-cd3b-43a6-a47e-21bc33e8d828",
   "metadata": {},
   "outputs": [
    {
     "data": {
      "text/html": [
       "<div>\n",
       "<style scoped>\n",
       "    .dataframe tbody tr th:only-of-type {\n",
       "        vertical-align: middle;\n",
       "    }\n",
       "\n",
       "    .dataframe tbody tr th {\n",
       "        vertical-align: top;\n",
       "    }\n",
       "\n",
       "    .dataframe thead th {\n",
       "        text-align: right;\n",
       "    }\n",
       "</style>\n",
       "<table border=\"1\" class=\"dataframe\">\n",
       "  <thead>\n",
       "    <tr style=\"text-align: right;\">\n",
       "      <th></th>\n",
       "      <th>Tarih</th>\n",
       "      <th>enflasyon</th>\n",
       "      <th>issizlik</th>\n",
       "    </tr>\n",
       "  </thead>\n",
       "  <tbody>\n",
       "    <tr>\n",
       "      <th>153</th>\n",
       "      <td>2018-10</td>\n",
       "      <td>25.24</td>\n",
       "      <td>11.6</td>\n",
       "    </tr>\n",
       "    <tr>\n",
       "      <th>154</th>\n",
       "      <td>2018-11</td>\n",
       "      <td>21.62</td>\n",
       "      <td>12.3</td>\n",
       "    </tr>\n",
       "    <tr>\n",
       "      <th>155</th>\n",
       "      <td>2018-12</td>\n",
       "      <td>20.30</td>\n",
       "      <td>13.5</td>\n",
       "    </tr>\n",
       "    <tr>\n",
       "      <th>156</th>\n",
       "      <td>2019-01</td>\n",
       "      <td>20.35</td>\n",
       "      <td>14.7</td>\n",
       "    </tr>\n",
       "    <tr>\n",
       "      <th>157</th>\n",
       "      <td>2019-02</td>\n",
       "      <td>19.67</td>\n",
       "      <td>14.7</td>\n",
       "    </tr>\n",
       "  </tbody>\n",
       "</table>\n",
       "</div>"
      ],
      "text/plain": [
       "       Tarih  enflasyon  issizlik\n",
       "153  2018-10      25.24      11.6\n",
       "154  2018-11      21.62      12.3\n",
       "155  2018-12      20.30      13.5\n",
       "156  2019-01      20.35      14.7\n",
       "157  2019-02      19.67      14.7"
      ]
     },
     "execution_count": 205,
     "metadata": {},
     "output_type": "execute_result"
    }
   ],
   "source": [
    "data.tail()"
   ]
  },
  {
   "cell_type": "code",
   "execution_count": 206,
   "id": "054bdd94-882e-46ba-b111-1ba46c169630",
   "metadata": {},
   "outputs": [
    {
     "data": {
      "text/html": [
       "<div>\n",
       "<style scoped>\n",
       "    .dataframe tbody tr th:only-of-type {\n",
       "        vertical-align: middle;\n",
       "    }\n",
       "\n",
       "    .dataframe tbody tr th {\n",
       "        vertical-align: top;\n",
       "    }\n",
       "\n",
       "    .dataframe thead th {\n",
       "        text-align: right;\n",
       "    }\n",
       "</style>\n",
       "<table border=\"1\" class=\"dataframe\">\n",
       "  <thead>\n",
       "    <tr style=\"text-align: right;\">\n",
       "      <th></th>\n",
       "      <th>enflasyon</th>\n",
       "      <th>issizlik</th>\n",
       "    </tr>\n",
       "  </thead>\n",
       "  <tbody>\n",
       "    <tr>\n",
       "      <th>count</th>\n",
       "      <td>158.000000</td>\n",
       "      <td>158.000000</td>\n",
       "    </tr>\n",
       "    <tr>\n",
       "      <th>mean</th>\n",
       "      <td>9.230949</td>\n",
       "      <td>10.222785</td>\n",
       "    </tr>\n",
       "    <tr>\n",
       "      <th>std</th>\n",
       "      <td>3.318268</td>\n",
       "      <td>1.584759</td>\n",
       "    </tr>\n",
       "    <tr>\n",
       "      <th>min</th>\n",
       "      <td>3.990000</td>\n",
       "      <td>7.300000</td>\n",
       "    </tr>\n",
       "    <tr>\n",
       "      <th>25%</th>\n",
       "      <td>7.392500</td>\n",
       "      <td>9.100000</td>\n",
       "    </tr>\n",
       "    <tr>\n",
       "      <th>50%</th>\n",
       "      <td>8.785000</td>\n",
       "      <td>10.100000</td>\n",
       "    </tr>\n",
       "    <tr>\n",
       "      <th>75%</th>\n",
       "      <td>10.220000</td>\n",
       "      <td>10.875000</td>\n",
       "    </tr>\n",
       "    <tr>\n",
       "      <th>max</th>\n",
       "      <td>25.240000</td>\n",
       "      <td>14.800000</td>\n",
       "    </tr>\n",
       "  </tbody>\n",
       "</table>\n",
       "</div>"
      ],
      "text/plain": [
       "        enflasyon    issizlik\n",
       "count  158.000000  158.000000\n",
       "mean     9.230949   10.222785\n",
       "std      3.318268    1.584759\n",
       "min      3.990000    7.300000\n",
       "25%      7.392500    9.100000\n",
       "50%      8.785000   10.100000\n",
       "75%     10.220000   10.875000\n",
       "max     25.240000   14.800000"
      ]
     },
     "execution_count": 206,
     "metadata": {},
     "output_type": "execute_result"
    }
   ],
   "source": [
    "data.describe()"
   ]
  },
  {
   "cell_type": "code",
   "execution_count": 207,
   "id": "45e4546f-ec8b-4173-9ff0-a4879f27fd8f",
   "metadata": {},
   "outputs": [
    {
     "data": {
      "text/plain": [
       "0     9.3\n",
       "1    10.3\n",
       "Name: issizlik, dtype: float64"
      ]
     },
     "execution_count": 207,
     "metadata": {},
     "output_type": "execute_result"
    }
   ],
   "source": [
    "data['issizlik'].mode()"
   ]
  },
  {
   "cell_type": "code",
   "execution_count": 208,
   "id": "f402e23a-7ac3-4c2f-b6bb-69ebd63475d5",
   "metadata": {},
   "outputs": [
    {
     "data": {
      "text/plain": [
       "10.1"
      ]
     },
     "execution_count": 208,
     "metadata": {},
     "output_type": "execute_result"
    }
   ],
   "source": [
    "data['issizlik'].median()\n"
   ]
  },
  {
   "cell_type": "code",
   "execution_count": 209,
   "id": "3a0ead33-dbae-41a1-9710-768f61ca3b91",
   "metadata": {},
   "outputs": [
    {
     "data": {
      "text/plain": [
       "3.3182680594878753"
      ]
     },
     "execution_count": 209,
     "metadata": {},
     "output_type": "execute_result"
    }
   ],
   "source": [
    "data['enflasyon'].std()"
   ]
  },
  {
   "cell_type": "code",
   "execution_count": 210,
   "id": "e9f2b399-6c96-4f63-9488-4bb4556dbd3a",
   "metadata": {},
   "outputs": [
    {
     "data": {
      "text/html": [
       "<div>\n",
       "<style scoped>\n",
       "    .dataframe tbody tr th:only-of-type {\n",
       "        vertical-align: middle;\n",
       "    }\n",
       "\n",
       "    .dataframe tbody tr th {\n",
       "        vertical-align: top;\n",
       "    }\n",
       "\n",
       "    .dataframe thead th {\n",
       "        text-align: right;\n",
       "    }\n",
       "</style>\n",
       "<table border=\"1\" class=\"dataframe\">\n",
       "  <thead>\n",
       "    <tr style=\"text-align: right;\">\n",
       "      <th></th>\n",
       "      <th>enflasyon</th>\n",
       "      <th>issizlik</th>\n",
       "    </tr>\n",
       "  </thead>\n",
       "  <tbody>\n",
       "    <tr>\n",
       "      <th>enflasyon</th>\n",
       "      <td>1.000000</td>\n",
       "      <td>0.194711</td>\n",
       "    </tr>\n",
       "    <tr>\n",
       "      <th>issizlik</th>\n",
       "      <td>0.194711</td>\n",
       "      <td>1.000000</td>\n",
       "    </tr>\n",
       "  </tbody>\n",
       "</table>\n",
       "</div>"
      ],
      "text/plain": [
       "           enflasyon  issizlik\n",
       "enflasyon   1.000000  0.194711\n",
       "issizlik    0.194711  1.000000"
      ]
     },
     "execution_count": 210,
     "metadata": {},
     "output_type": "execute_result"
    }
   ],
   "source": [
    "new_data = data[['enflasyon','issizlik']].corr() #belirli sutunlari secmezsek hata aliriz cunku tarih verisi hala string\n",
    "new_data"
   ]
  },
  {
   "cell_type": "code",
   "execution_count": 240,
   "id": "d6cc7b5b-60af-44ce-9bda-3d4af0424f1b",
   "metadata": {},
   "outputs": [
    {
     "data": {
      "text/plain": [
       "<Axes: >"
      ]
     },
     "execution_count": 240,
     "metadata": {},
     "output_type": "execute_result"
    },
    {
     "data": {
      "image/png": "[encoded data removed]",
      "text/plain": [
       "<Figure size 640x480 with 2 Axes>"
      ]
     },
     "metadata": {},
     "output_type": "display_data"
    }
   ],
   "source": [
    "sns.heatmap(new_data)\n"
   ]
  },
  {
   "cell_type": "code",
   "execution_count": null,
   "id": "ddde47ce-9a1e-4722-8a1f-ac2bc822e1f6",
   "metadata": {},
   "outputs": [],
   "source": []
  },
  {
   "cell_type": "code",
   "execution_count": null,
   "id": "de92dec2-0ed2-4698-b2af-164070b002e9",
   "metadata": {},
   "outputs": [],
   "source": []
  }
 ],
 "metadata": {
  "kernelspec": {
   "display_name": "Python 3 (ipykernel)",
   "language": "python",
   "name": "python3"
  },
  "language_info": {
   "codemirror_mode": {
    "name": "ipython",
    "version": 3
   },
   "file_extension": ".py",
   "mimetype": "text/x-python",
   "name": "python",
   "nbconvert_exporter": "python",
   "pygments_lexer": "ipython3",
   "version": "3.12.4"
  }
 },
 "nbformat": 4,
 "nbformat_minor": 5
}
